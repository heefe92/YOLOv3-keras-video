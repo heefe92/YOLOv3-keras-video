{
 "cells": [
  {
   "cell_type": "code",
   "execution_count": 1,
   "metadata": {},
   "outputs": [
    {
     "name": "stderr",
     "output_type": "stream",
     "text": [
      "Using TensorFlow backend.\n"
     ]
    }
   ],
   "source": [
    "from yolov3 import make_new_seq_yolov3_model\n",
    "from utils.utils import WeightReader\n",
    "from utils.utils import preprocess_input\n",
    "from utils.utils import decode_netout\n",
    "from utils.utils import correct_yolo_boxes\n",
    "from utils.utils import do_nms\n",
    "from utils.bbox import draw_boxes\n",
    "from utils.utils import get_yolo_boxes\n",
    "from keras.models import Sequential\n",
    "from keras.layers import  Dense\n",
    "\n",
    "import copy\n",
    "import time\n",
    "import keras.backend as K\n",
    "import numpy as np\n",
    "import cv2\n",
    "import os"
   ]
  },
  {
   "cell_type": "code",
   "execution_count": 2,
   "metadata": {},
   "outputs": [],
   "source": [
    "net_h, net_w = 416, 416\n",
    "obj_thresh, nms_thresh = 0.5, 0.45\n",
    "anchors = [10, 13, 16, 30, 33, 23, 30, 61, 62, 45, 59, 119, 116, 90, 156, 198, 373, 326]\n",
    "labels = [\"person\", \"bicycle\", \"car\", \"motorbike\", \"aeroplane\", \"bus\", \"train\", \"truck\", \\\n",
    "          \"boat\", \"traffic light\", \"fire hydrant\", \"stop sign\", \"parking meter\", \"bench\", \\\n",
    "          \"bird\", \"cat\", \"dog\", \"horse\", \"sheep\", \"cow\", \"elephant\", \"bear\", \"zebra\", \"giraffe\", \\\n",
    "          \"backpack\", \"umbrella\", \"handbag\", \"tie\", \"suitcase\", \"frisbee\", \"skis\", \"snowboard\", \\\n",
    "          \"sports ball\", \"kite\", \"baseball bat\", \"baseball glove\", \"skateboard\", \"surfboard\", \\\n",
    "          \"tennis racket\", \"bottle\", \"wine glass\", \"cup\", \"fork\", \"knife\", \"spoon\", \"bowl\", \"banana\", \\\n",
    "          \"apple\", \"sandwich\", \"orange\", \"broccoli\", \"carrot\", \"hot dog\", \"pizza\", \"donut\", \"cake\", \\\n",
    "          \"chair\", \"sofa\", \"pottedplant\", \"bed\", \"diningtable\", \"toilet\", \"tvmonitor\", \"laptop\", \"mouse\", \\\n",
    "          \"remote\", \"keyboard\", \"cell phone\", \"microwave\", \"oven\", \"toaster\", \"sink\", \"refrigerator\", \\\n",
    "          \"book\", \"clock\", \"vase\", \"scissors\", \"teddy bear\", \"hair drier\", \"toothbrush\"]\n",
    "\n",
    "imgs_folder_path = 'Z:/dataset/KNU-Campus Dataset/images/20180312_171706/'\n",
    "img_name = '20180312_171706_'\n",
    "infer_model,seq_infer_model = make_new_seq_yolov3_model(input_shape=(416,416,3))\n",
    "\n",
    "if not (os.path.exists('Weights/yolov3.h5')):\n",
    "    weight_reader = WeightReader('yolov3.weights')\n",
    "    weight_reader.load_weights(infer_model)\n",
    "    infer_model.save_weights('Weights/yolov3.h5')\n",
    "    seq_infer_model.load_weights('Weights/yolov3.h5', by_name=True)\n",
    "else :\n",
    "    infer_model.load_weights('Weights/yolov3.h5',by_name=True)\n",
    "    seq_infer_model.load_weights('Weights/yolov3.h5', by_name=True)\n",
    "    \n",
    "output_layer_weights = [infer_model.get_layer(name='conv_81').get_weights()[0],\n",
    "                        infer_model.get_layer(name='conv_93').get_weights()[0],\n",
    "                        infer_model.get_layer(name='conv_105').get_weights()[0]]"
   ]
  },
  {
   "cell_type": "code",
   "execution_count": 24,
   "metadata": {},
   "outputs": [],
   "source": [
    "def get_grad(yolo_num,row,col,out_idx):\n",
    "    prev_layer_shape = [(13,13,1024),(26,26,512),(52,52,256)]\n",
    "    result=np.zeros(shape=prev_layer_shape[yolo_num])\n",
    "    result[row,col,:] = output_layer_weights[yolo_num][0,0,:,out_idx]\n",
    "    return result"
   ]
  },
  {
   "cell_type": "code",
   "execution_count": 32,
   "metadata": {},
   "outputs": [
    {
     "name": "stdout",
     "output_type": "stream",
     "text": [
      "0.0852351188659668\n"
     ]
    }
   ],
   "source": [
    "start_time = time.time()\n",
    "\n",
    "for i in range(19):\n",
    "    a=get_grad(yolo_num = 2, row = i, col = i, out_idx = i)\n",
    "    a+=get_grad(yolo_num = 2, row = i, col = i, out_idx =i+1)\n",
    "print(time.time()-start_time)"
   ]
  },
  {
   "cell_type": "code",
   "execution_count": 34,
   "metadata": {
    "scrolled": true
   },
   "outputs": [
    {
     "name": "stdout",
     "output_type": "stream",
     "text": [
      "19\n",
      "0.18950510025024414\n",
      "19\n",
      "0.1894993782043457\n",
      "21\n",
      "0.1874995231628418\n",
      "19\n",
      "0.17747116088867188\n",
      "21\n",
      "0.18448805809020996\n",
      "20\n",
      "0.18449115753173828\n",
      "19\n",
      "0.17947816848754883\n"
     ]
    },
    {
     "ename": "KeyboardInterrupt",
     "evalue": "",
     "output_type": "error",
     "traceback": [
      "\u001b[1;31m---------------------------------------------------------------------------\u001b[0m",
      "\u001b[1;31mKeyboardInterrupt\u001b[0m                         Traceback (most recent call last)",
      "\u001b[1;32m<ipython-input-34-feb738af3248>\u001b[0m in \u001b[0;36m<module>\u001b[1;34m()\u001b[0m\n\u001b[0;32m      9\u001b[0m         \u001b[0mimg_num2str\u001b[0m\u001b[1;33m=\u001b[0m\u001b[1;34m'0'\u001b[0m\u001b[1;33m+\u001b[0m\u001b[0mimg_num2str\u001b[0m\u001b[1;33m\u001b[0m\u001b[0m\n\u001b[0;32m     10\u001b[0m \u001b[1;33m\u001b[0m\u001b[0m\n\u001b[1;32m---> 11\u001b[1;33m     \u001b[0mimg\u001b[0m \u001b[1;33m=\u001b[0m \u001b[0mcv2\u001b[0m\u001b[1;33m.\u001b[0m\u001b[0mimread\u001b[0m\u001b[1;33m(\u001b[0m\u001b[0mimgs_folder_path\u001b[0m\u001b[1;33m+\u001b[0m\u001b[0mimg_name\u001b[0m\u001b[1;33m+\u001b[0m\u001b[0mimg_num2str\u001b[0m\u001b[1;33m+\u001b[0m\u001b[1;34m'.jpg'\u001b[0m\u001b[1;33m)\u001b[0m\u001b[1;33m\u001b[0m\u001b[0m\n\u001b[0m\u001b[0;32m     12\u001b[0m     \u001b[0mimage_h\u001b[0m\u001b[1;33m,\u001b[0m \u001b[0mimage_w\u001b[0m\u001b[1;33m,\u001b[0m \u001b[0m_\u001b[0m \u001b[1;33m=\u001b[0m \u001b[0mimg\u001b[0m\u001b[1;33m.\u001b[0m\u001b[0mshape\u001b[0m\u001b[1;33m\u001b[0m\u001b[0m\n\u001b[0;32m     13\u001b[0m \u001b[1;33m\u001b[0m\u001b[0m\n",
      "\u001b[1;31mKeyboardInterrupt\u001b[0m: "
     ]
    }
   ],
   "source": [
    "prev_feature=[]\n",
    "for img_num in range(900):\n",
    "#     print(img_num)\n",
    "#     if(img_num >= 2):\n",
    "#         img_num=2\n",
    "        \n",
    "    img_num2str=str(img_num)\n",
    "    while(len(img_num2str)<4):\n",
    "        img_num2str='0'+img_num2str\n",
    "\n",
    "    img = cv2.imread(imgs_folder_path+img_name+img_num2str+'.jpg')\n",
    "    image_h, image_w, _ = img.shape\n",
    "    \n",
    "    process_image = preprocess_input(img, net_h, net_w)\n",
    "    \n",
    "    if img_num == 0:\n",
    "        yolos = infer_model.predict(process_image)\n",
    "        prev_feature = copy.deepcopy(yolos[:3])\n",
    "        yolos = yolos[:3]\n",
    "    else:\n",
    "        start_time = time.time()\n",
    "        yolos = infer_model.predict(process_image)\n",
    "        update_layer = yolos[3:]\n",
    "        \n",
    "        l_r = 1\n",
    "        gradients=[None]*3\n",
    "        count=[0]*3\n",
    "        print(len(rows))\n",
    "        for i in range(len(rows)):\n",
    "            row = rows[i]\n",
    "            col = cols[i]\n",
    "            b = bs[i]\n",
    "            class_num = class_nums[i]\n",
    "            yolo_num = yolo_nums[i]\n",
    "            if (count[yolo_num]==0):\n",
    "                gradients[yolo_num] = get_grad(yolo_num = yolo_num, row = row, col = col, out_idx = 85*b +4) \n",
    "                gradients[yolo_num] += get_grad(yolo_num = yolo_num, row = row, col = col, out_idx = 85*b +5+ class_num)\n",
    "            else:\n",
    "                gradients[yolo_num] += get_grad(yolo_num = yolo_num, row = row, col = col, out_idx = 85*b +4)\n",
    "                gradients[yolo_num] += get_grad(yolo_num = yolo_num, row = row, col = col, out_idx = 85*b +5+ class_num)\n",
    "                \n",
    "            count[yolo_num] += 1\n",
    "            \n",
    "        for i in range(3):\n",
    "            if (count[i]!=0):\n",
    "                gradients[i] /= float(count[i])\n",
    "                update_layer[i] = update_layer[i] + l_r * gradients[i]\n",
    "        \n",
    "        yolos = seq_infer_model.predict([update_layer[0],update_layer[1],update_layer[2],prev_feature[0],prev_feature[1],prev_feature[2]])\n",
    "        prev_feature = copy.deepcopy(yolos[:3])\n",
    "        yolos = yolos[:3]\n",
    "        print(time.time()-start_time)\n",
    "        \n",
    "        \n",
    "    \n",
    "    #yolos = infer_model.predict(process_image)\n",
    "    boxes = []\n",
    "\n",
    "    for i in range(len(yolos)):\n",
    "        # decode the output of the network\n",
    "        yolo_anchors = anchors[(2 - i) * 6:(3 - i) * 6]\n",
    "        boxes += decode_netout(yolos[i][0], yolo_anchors, obj_thresh, net_h, net_w, i)\n",
    "    #print(boxes)\n",
    "    # correct the sizes of the bounding boxes\n",
    "    correct_yolo_boxes(boxes, image_h, image_w, net_h, net_w)\n",
    "\n",
    "    # suppress non-maximal boxes\n",
    "    do_nms(boxes, nms_thresh)\n",
    "\n",
    "    # draw bounding boxes on the image using labels\n",
    "    rows, cols, bs, class_nums, yolo_nums = draw_boxes(img, boxes, labels, obj_thresh, debug = False)\n",
    "    cv2.imwrite('outputs/new_seq_attend/'+img_name+img_num2str+'_detected.jpg',cv2.resize(img,(1280,720)))\n",
    "    cv2.imshow('video with bboxes', cv2.resize(img,(1280,720)))\n",
    "    cv2.waitKey(6)\n",
    "#     print()"
   ]
  },
  {
   "cell_type": "code",
   "execution_count": null,
   "metadata": {},
   "outputs": [],
   "source": []
  }
 ],
 "metadata": {
  "kernelspec": {
   "display_name": "Python 3",
   "language": "python",
   "name": "python3"
  },
  "language_info": {
   "codemirror_mode": {
    "name": "ipython",
    "version": 3
   },
   "file_extension": ".py",
   "mimetype": "text/x-python",
   "name": "python",
   "nbconvert_exporter": "python",
   "pygments_lexer": "ipython3",
   "version": "3.5.4"
  }
 },
 "nbformat": 4,
 "nbformat_minor": 2
}
